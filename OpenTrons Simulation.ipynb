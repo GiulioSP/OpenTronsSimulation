{
 "cells": [
  {
   "cell_type": "code",
   "execution_count": 3,
   "metadata": {},
   "outputs": [],
   "source": [
    "#import sys\n",
    "#!{sys.executable} -m pip install opentrons\n",
    "#!{sys.executable} -m pip install --upgrade opentrons"
   ]
  },
  {
   "cell_type": "code",
   "execution_count": 2,
   "metadata": {},
   "outputs": [
    {
     "ename": "SyntaxError",
     "evalue": "invalid syntax (<ipython-input-2-547a9d9aa63f>, line 1)",
     "output_type": "error",
     "traceback": [
      "\u001b[1;36m  File \u001b[1;32m\"<ipython-input-2-547a9d9aa63f>\"\u001b[1;36m, line \u001b[1;32m1\u001b[0m\n\u001b[1;33m    opentrons_simulate.exe my_protocol.py\u001b[0m\n\u001b[1;37m                                     ^\u001b[0m\n\u001b[1;31mSyntaxError\u001b[0m\u001b[1;31m:\u001b[0m invalid syntax\n"
     ]
    }
   ],
   "source": [
    "opentrons_simulate.exe my_protocol.py"
   ]
  },
  {
   "cell_type": "code",
   "execution_count": 8,
   "metadata": {},
   "outputs": [
    {
     "name": "stderr",
     "output_type": "stream",
     "text": [
      "C:\\SPB_Data\\.opentrons\\robot_settings.json not found. Loading defaults\n",
      "C:\\SPB_Data\\.opentrons\\deck_calibration.json not found. Loading defaults\n"
     ]
    },
    {
     "name": "stdout",
     "output_type": "stream",
     "text": [
      "Transferring 100.0 from A1 of Corning 96 Well Plate 360 µL Flat on 2 to A2 of Corning 96 Well Plate 360 µL Flat on 2\n",
      "Picking up tip from A1 of Opentrons 96 Tip Rack 300 µL on 1\n",
      "Aspirating 100.0 uL from A1 of Corning 96 Well Plate 360 µL Flat on 2 at 150.0 uL/sec\n",
      "Dispensing 100.0 uL into A2 of Corning 96 Well Plate 360 µL Flat on 2 at 300.0 uL/sec\n",
      "Dropping tip into A1 of Opentrons Fixed Trash on 12\n"
     ]
    }
   ],
   "source": [
    "from opentrons import simulate\n",
    "\n",
    "# Initializing simulation to API version used\n",
    "protocol = simulate.get_protocol_api('2.3')\n",
    "# Homing simulated liquid handler machine\n",
    "protocol.home()\n",
    "\n",
    "# Labware\n",
    "# well plate at slot 2\n",
    "plate = protocol.load_labware('corning_96_wellplate_360ul_flat', '2')\n",
    "# tiprack at slot 1\n",
    "tiprack = protocol.load_labware('opentrons_96_tiprack_300ul', '1')\n",
    "\n",
    "# Pipettes\n",
    "left_pipette = protocol.load_instrument('p300_multi', 'left', tip_racks=[tiprack])\n",
    "\n",
    "# Commands\n",
    "left_pipette.transfer(100, plate['A1'], plate['A2'])\n",
    "\n",
    "for line in protocol.commands(): \n",
    "    print(line)"
   ]
  },
  {
   "cell_type": "code",
   "execution_count": null,
   "metadata": {},
   "outputs": [],
   "source": [
    "# Opentrons Protocol Tutorial\n",
    "from opentrons import protocol_api\n",
    "\n",
    "# metadata\n",
    "metadata = {\n",
    "    'protocolName': 'My Protocol',\n",
    "    'author': 'Name <email@address.com>',\n",
    "    'description': 'Simple protocol to get started using OT2',\n",
    "    'apiLevel': '2.10'\n",
    "}\n",
    "\n",
    "# protocol run function. the part after the colon lets your editor know\n",
    "# where to look for autocomplete suggestions\n",
    "def run(protocol: protocol_api.ProtocolContext):\n",
    "\n",
    "    # labware\n",
    "    plate = protocol.load_labware('corning_96_wellplate_360ul_flat', '2')\n",
    "    tiprack = protocol.load_labware('opentrons_96_tiprack_300ul', '1')\n",
    "\n",
    "    # pipettes\n",
    "    left_pipette = protocol.load_instrument(\n",
    "         'p300_single', 'left', tip_racks=[tiprack])\n",
    "\n",
    "    # commands\n",
    "    left_pipette.pick_up_tip()\n",
    "    left_pipette.aspirate(100, plate['A1'])\n",
    "    left_pipette.dispense(100, plate['B2'])\n",
    "    left_pipette.drop_tip()"
   ]
  }
 ],
 "metadata": {
  "kernelspec": {
   "display_name": "Python 3",
   "language": "python",
   "name": "python3"
  },
  "language_info": {
   "codemirror_mode": {
    "name": "ipython",
    "version": 3
   },
   "file_extension": ".py",
   "mimetype": "text/x-python",
   "name": "python",
   "nbconvert_exporter": "python",
   "pygments_lexer": "ipython3",
   "version": "3.7.3"
  }
 },
 "nbformat": 4,
 "nbformat_minor": 2
}
