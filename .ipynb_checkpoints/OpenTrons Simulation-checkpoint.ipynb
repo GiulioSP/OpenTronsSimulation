{
 "cells": [
  {
   "cell_type": "code",
   "execution_count": 1,
   "metadata": {},
   "outputs": [
    {
     "name": "stdout",
     "output_type": "stream",
     "text": [
      "Requirement already satisfied: opentrons in c:\\users\\giulio\\anaconda3\\lib\\site-packages (4.4.0)\n",
      "Requirement already satisfied: pydantic==1.4 in c:\\users\\giulio\\anaconda3\\lib\\site-packages (from opentrons) (1.4)\n",
      "Requirement already satisfied: opentrons-shared-data==4.4.0 in c:\\users\\giulio\\anaconda3\\lib\\site-packages (from opentrons) (4.4.0)\n",
      "Requirement already satisfied: pyserial==3.5 in c:\\users\\giulio\\anaconda3\\lib\\site-packages (from opentrons) (3.5)\n",
      "Requirement already satisfied: typing-extensions>=3.7.4.3 in c:\\users\\giulio\\anaconda3\\lib\\site-packages (from opentrons) (3.10.0.0)\n",
      "Requirement already satisfied: jsonschema<4,>=3.0.2 in c:\\users\\giulio\\anaconda3\\lib\\site-packages (from opentrons) (3.2.0)\n",
      "Requirement already satisfied: numpy>=1.15.1 in c:\\users\\giulio\\anaconda3\\lib\\site-packages (from opentrons) (1.16.4)\n",
      "Requirement already satisfied: aionotify==0.2.0 in c:\\users\\giulio\\anaconda3\\lib\\site-packages (from opentrons) (0.2.0)\n",
      "Requirement already satisfied: six>=1.11.0 in c:\\users\\giulio\\anaconda3\\lib\\site-packages (from jsonschema<4,>=3.0.2->opentrons) (1.12.0)\n",
      "Requirement already satisfied: attrs>=17.4.0 in c:\\users\\giulio\\anaconda3\\lib\\site-packages (from jsonschema<4,>=3.0.2->opentrons) (19.1.0)\n",
      "Requirement already satisfied: importlib-metadata; python_version < \"3.8\" in c:\\users\\giulio\\anaconda3\\lib\\site-packages (from jsonschema<4,>=3.0.2->opentrons) (0.17)\n",
      "Requirement already satisfied: setuptools in c:\\users\\giulio\\anaconda3\\lib\\site-packages (from jsonschema<4,>=3.0.2->opentrons) (41.0.1)\n",
      "Requirement already satisfied: pyrsistent>=0.14.0 in c:\\users\\giulio\\anaconda3\\lib\\site-packages (from jsonschema<4,>=3.0.2->opentrons) (0.14.11)\n",
      "Requirement already satisfied: zipp>=0.5 in c:\\users\\giulio\\anaconda3\\lib\\site-packages (from importlib-metadata; python_version < \"3.8\"->jsonschema<4,>=3.0.2->opentrons) (0.5.1)\n",
      "Requirement already up-to-date: opentrons in c:\\users\\giulio\\anaconda3\\lib\\site-packages (4.4.0)\n",
      "Requirement already satisfied, skipping upgrade: typing-extensions>=3.7.4.3 in c:\\users\\giulio\\anaconda3\\lib\\site-packages (from opentrons) (3.10.0.0)\n",
      "Requirement already satisfied, skipping upgrade: numpy>=1.15.1 in c:\\users\\giulio\\anaconda3\\lib\\site-packages (from opentrons) (1.16.4)\n",
      "Requirement already satisfied, skipping upgrade: pyserial==3.5 in c:\\users\\giulio\\anaconda3\\lib\\site-packages (from opentrons) (3.5)\n",
      "Requirement already satisfied, skipping upgrade: jsonschema<4,>=3.0.2 in c:\\users\\giulio\\anaconda3\\lib\\site-packages (from opentrons) (3.2.0)\n",
      "Requirement already satisfied, skipping upgrade: pydantic==1.4 in c:\\users\\giulio\\anaconda3\\lib\\site-packages (from opentrons) (1.4)\n",
      "Requirement already satisfied, skipping upgrade: aionotify==0.2.0 in c:\\users\\giulio\\anaconda3\\lib\\site-packages (from opentrons) (0.2.0)\n",
      "Requirement already satisfied, skipping upgrade: opentrons-shared-data==4.4.0 in c:\\users\\giulio\\anaconda3\\lib\\site-packages (from opentrons) (4.4.0)\n",
      "Requirement already satisfied, skipping upgrade: importlib-metadata; python_version < \"3.8\" in c:\\users\\giulio\\anaconda3\\lib\\site-packages (from jsonschema<4,>=3.0.2->opentrons) (0.17)\n",
      "Requirement already satisfied, skipping upgrade: six>=1.11.0 in c:\\users\\giulio\\anaconda3\\lib\\site-packages (from jsonschema<4,>=3.0.2->opentrons) (1.12.0)\n",
      "Requirement already satisfied, skipping upgrade: pyrsistent>=0.14.0 in c:\\users\\giulio\\anaconda3\\lib\\site-packages (from jsonschema<4,>=3.0.2->opentrons) (0.14.11)\n",
      "Requirement already satisfied, skipping upgrade: setuptools in c:\\users\\giulio\\anaconda3\\lib\\site-packages (from jsonschema<4,>=3.0.2->opentrons) (41.0.1)\n",
      "Requirement already satisfied, skipping upgrade: attrs>=17.4.0 in c:\\users\\giulio\\anaconda3\\lib\\site-packages (from jsonschema<4,>=3.0.2->opentrons) (19.1.0)\n",
      "Requirement already satisfied, skipping upgrade: zipp>=0.5 in c:\\users\\giulio\\anaconda3\\lib\\site-packages (from importlib-metadata; python_version < \"3.8\"->jsonschema<4,>=3.0.2->opentrons) (0.5.1)\n"
     ]
    }
   ],
   "source": [
    "import sys\n",
    "!{sys.executable} -m pip install opentrons\n",
    "!{sys.executable} -m pip install --upgrade opentrons"
   ]
  },
  {
   "cell_type": "code",
   "execution_count": 2,
   "metadata": {},
   "outputs": [
    {
     "ename": "SyntaxError",
     "evalue": "invalid syntax (<ipython-input-2-547a9d9aa63f>, line 1)",
     "output_type": "error",
     "traceback": [
      "\u001b[1;36m  File \u001b[1;32m\"<ipython-input-2-547a9d9aa63f>\"\u001b[1;36m, line \u001b[1;32m1\u001b[0m\n\u001b[1;33m    opentrons_simulate.exe my_protocol.py\u001b[0m\n\u001b[1;37m                                     ^\u001b[0m\n\u001b[1;31mSyntaxError\u001b[0m\u001b[1;31m:\u001b[0m invalid syntax\n"
     ]
    }
   ],
   "source": [
    "opentrons_simulate.exe my_protocol.py"
   ]
  },
  {
   "cell_type": "code",
   "execution_count": null,
   "metadata": {},
   "outputs": [],
   "source": []
  }
 ],
 "metadata": {
  "kernelspec": {
   "display_name": "Python 3",
   "language": "python",
   "name": "python3"
  },
  "language_info": {
   "codemirror_mode": {
    "name": "ipython",
    "version": 3
   },
   "file_extension": ".py",
   "mimetype": "text/x-python",
   "name": "python",
   "nbconvert_exporter": "python",
   "pygments_lexer": "ipython3",
   "version": "3.7.3"
  }
 },
 "nbformat": 4,
 "nbformat_minor": 2
}
